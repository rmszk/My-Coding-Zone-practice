{
  "nbformat": 4,
  "nbformat_minor": 0,
  "metadata": {
    "colab": {
      "provenance": [],
      "collapsed_sections": [
        "GJR0RUWwm7BT",
        "FyNsZkDrrYi4",
        "POe3GEfEnLrH",
        "U9XI1JV6ss7f"
      ],
      "mount_file_id": "1jlmj01QIqKne4SUSzYgJLlF9OEOnqA0b",
      "authorship_tag": "ABX9TyMbAsyyuiH2Z9kEzIjaEDN3",
      "include_colab_link": true
    },
    "kernelspec": {
      "name": "python3",
      "display_name": "Python 3"
    },
    "language_info": {
      "name": "python"
    }
  },
  "cells": [
    {
      "cell_type": "markdown",
      "metadata": {
        "id": "view-in-github",
        "colab_type": "text"
      },
      "source": [
        "<a href=\"https://colab.research.google.com/github/rmszk/My-Coding-Zone-practice/blob/main/My_Coding_Zone_Practice_Lab.ipynb\" target=\"_parent\"><img src=\"https://colab.research.google.com/assets/colab-badge.svg\" alt=\"Open In Colab\"/></a>"
      ]
    },
    {
      "cell_type": "markdown",
      "source": [
        "## My Coding Zone 👨‍💻💻⌨"
      ],
      "metadata": {
        "id": "S5d3sxGamlUU"
      }
    },
    {
      "cell_type": "markdown",
      "source": [
        "### Data Types"
      ],
      "metadata": {
        "id": "GJR0RUWwm7BT"
      }
    },
    {
      "cell_type": "code",
      "source": [
        "print('Shahroz',end ='-')\n",
        "print('Khan')"
      ],
      "metadata": {
        "colab": {
          "base_uri": "https://localhost:8080/"
        },
        "id": "2WNGksKHm0t7",
        "outputId": "2689e699-5874-4c2e-8882-63ffc7ea9e15"
      },
      "execution_count": null,
      "outputs": [
        {
          "output_type": "stream",
          "name": "stdout",
          "text": [
            "Shahroz-Khan\n"
          ]
        }
      ]
    },
    {
      "cell_type": "code",
      "source": [
        "# Interger\n",
        "print(2)\n",
        "# 1*10^308\n",
        "print(1e308)\n",
        "type(2)"
      ],
      "metadata": {
        "colab": {
          "base_uri": "https://localhost:8080/"
        },
        "collapsed": true,
        "id": "OT_VzNMJoqcp",
        "outputId": "3cd6d6ac-6b03-4b64-a30d-7404a46eb009"
      },
      "execution_count": null,
      "outputs": [
        {
          "output_type": "stream",
          "name": "stdout",
          "text": [
            "2\n",
            "1e+308\n"
          ]
        },
        {
          "output_type": "execute_result",
          "data": {
            "text/plain": [
              "int"
            ]
          },
          "metadata": {},
          "execution_count": 38
        }
      ]
    },
    {
      "cell_type": "code",
      "source": [
        "# Decimal/Float\n",
        "print(8.56)\n",
        "print(1.7e308)\n",
        "type(8.56)"
      ],
      "metadata": {
        "colab": {
          "base_uri": "https://localhost:8080/"
        },
        "id": "7JhdHjD2pO8o",
        "outputId": "c33f0d8f-9e11-4289-c1f4-aea2a5d8e74f"
      },
      "execution_count": null,
      "outputs": [
        {
          "output_type": "stream",
          "name": "stdout",
          "text": [
            "8.56\n",
            "1.7e+308\n"
          ]
        },
        {
          "output_type": "execute_result",
          "data": {
            "text/plain": [
              "float"
            ]
          },
          "metadata": {},
          "execution_count": 39
        }
      ]
    },
    {
      "cell_type": "code",
      "source": [
        "# Boolean\n",
        "print(True)\n",
        "print(False)\n",
        "type(True)"
      ],
      "metadata": {
        "colab": {
          "base_uri": "https://localhost:8080/"
        },
        "id": "fONIC7HxqHvQ",
        "outputId": "39b25402-ed17-4fd9-d81f-7c3f76e0bef0"
      },
      "execution_count": null,
      "outputs": [
        {
          "output_type": "stream",
          "name": "stdout",
          "text": [
            "True\n",
            "False\n"
          ]
        },
        {
          "output_type": "execute_result",
          "data": {
            "text/plain": [
              "bool"
            ]
          },
          "metadata": {},
          "execution_count": 40
        }
      ]
    },
    {
      "cell_type": "code",
      "source": [
        "# Text/String\n",
        "print('Shahroz')\n",
        "print('Khan')\n",
        "type('Shahroz')"
      ],
      "metadata": {
        "colab": {
          "base_uri": "https://localhost:8080/"
        },
        "id": "90iQEaHdqRmZ",
        "outputId": "887566fe-09f1-4c27-c0eb-eca3ed6f4e5a"
      },
      "execution_count": null,
      "outputs": [
        {
          "output_type": "stream",
          "name": "stdout",
          "text": [
            "Shahroz\n",
            "Khan\n"
          ]
        },
        {
          "output_type": "execute_result",
          "data": {
            "text/plain": [
              "str"
            ]
          },
          "metadata": {},
          "execution_count": 41
        }
      ]
    },
    {
      "cell_type": "code",
      "source": [
        "# complex\n",
        "print(5+6j)\n",
        "type(5+6j)"
      ],
      "metadata": {
        "colab": {
          "base_uri": "https://localhost:8080/"
        },
        "id": "F3iam1fAqfvw",
        "outputId": "e6d77182-f964-481d-d1d0-37712957fd75"
      },
      "execution_count": null,
      "outputs": [
        {
          "output_type": "stream",
          "name": "stdout",
          "text": [
            "(5+6j)\n"
          ]
        },
        {
          "output_type": "execute_result",
          "data": {
            "text/plain": [
              "complex"
            ]
          },
          "metadata": {},
          "execution_count": 42
        }
      ]
    },
    {
      "cell_type": "code",
      "source": [
        "# List -> C -. Array\n",
        "print([0,1,2,3,4,5,6,7,8,9])\n",
        "type([0,1,2,3,4,5,6,7,8,9])"
      ],
      "metadata": {
        "colab": {
          "base_uri": "https://localhost:8080/"
        },
        "id": "Ezn94hWlqkRy",
        "outputId": "4d9be3d3-b8e8-4f20-dc39-569b9f31d4ba"
      },
      "execution_count": null,
      "outputs": [
        {
          "output_type": "stream",
          "name": "stdout",
          "text": [
            "[0, 1, 2, 3, 4, 5, 6, 7, 8, 9]\n"
          ]
        },
        {
          "output_type": "execute_result",
          "data": {
            "text/plain": [
              "list"
            ]
          },
          "metadata": {},
          "execution_count": 43
        }
      ]
    },
    {
      "cell_type": "code",
      "source": [
        "# Truple\n",
        "print((0,1,2,3,4,5,6,7,8,9))\n",
        "type((0,1,2,3,4,5,6,7,8,9))"
      ],
      "metadata": {
        "colab": {
          "base_uri": "https://localhost:8080/"
        },
        "id": "cmINB2t9qzh5",
        "outputId": "3b1e6c7c-d614-4792-956a-b93014a09283"
      },
      "execution_count": null,
      "outputs": [
        {
          "output_type": "stream",
          "name": "stdout",
          "text": [
            "(0, 1, 2, 3, 4, 5, 6, 7, 8, 9)\n"
          ]
        },
        {
          "output_type": "execute_result",
          "data": {
            "text/plain": [
              "tuple"
            ]
          },
          "metadata": {},
          "execution_count": 44
        }
      ]
    },
    {
      "cell_type": "code",
      "source": [
        "# Sets\n",
        "print({0,1,2,3,4,5,6,7,8,9})\n",
        "type({0,1,2,3,4,5,6,7,8,9})"
      ],
      "metadata": {
        "colab": {
          "base_uri": "https://localhost:8080/"
        },
        "id": "zdkKH3rCq4zT",
        "outputId": "62f29e1f-393c-43fe-fc4b-c1f59090918a"
      },
      "execution_count": null,
      "outputs": [
        {
          "output_type": "stream",
          "name": "stdout",
          "text": [
            "{0, 1, 2, 3, 4, 5, 6, 7, 8, 9}\n"
          ]
        },
        {
          "output_type": "execute_result",
          "data": {
            "text/plain": [
              "set"
            ]
          },
          "metadata": {},
          "execution_count": 45
        }
      ]
    },
    {
      "cell_type": "code",
      "source": [
        "# Dictionary\n",
        "print({'Name':'Shahroz','Age':20,'Gender':'Male'})\n",
        "type({'Name':'Shahroz','Age':20,'Gender':'Male'})"
      ],
      "metadata": {
        "colab": {
          "base_uri": "https://localhost:8080/"
        },
        "id": "1S6OFL03rEHR",
        "outputId": "43b1eef5-a4ad-4ab6-c32d-d20c728a3b05"
      },
      "execution_count": null,
      "outputs": [
        {
          "output_type": "stream",
          "name": "stdout",
          "text": [
            "{'Name': 'Shahroz', 'Age': 20, 'Gender': 'Male'}\n"
          ]
        },
        {
          "output_type": "execute_result",
          "data": {
            "text/plain": [
              "dict"
            ]
          },
          "metadata": {},
          "execution_count": 46
        }
      ]
    },
    {
      "cell_type": "markdown",
      "source": [
        "### Variable\n",
        "\n"
      ],
      "metadata": {
        "id": "FyNsZkDrrYi4"
      }
    },
    {
      "cell_type": "markdown",
      "source": [
        "1.    Static Vs Dynamic Tpying\n",
        "2.    Static Vs Dynamic Binding\n",
        "3.   Stylish declaration Techniques"
      ],
      "metadata": {
        "id": "1TWFDtCJkmfl"
      }
    },
    {
      "cell_type": "code",
      "source": [
        "name = 'Shahroz'\n",
        "print(name)\n",
        "\n",
        "a = 5\n",
        "b = 6\n",
        "print(a+b)"
      ],
      "metadata": {
        "colab": {
          "base_uri": "https://localhost:8080/"
        },
        "id": "TDGcm7QLwrvI",
        "outputId": "e48210a3-d5cc-475f-b998-99fc834cd569"
      },
      "execution_count": null,
      "outputs": [
        {
          "output_type": "stream",
          "name": "stdout",
          "text": [
            "Shahroz\n",
            "11\n"
          ]
        }
      ]
    },
    {
      "cell_type": "code",
      "source": [
        "# Dynamic Binding\n",
        "a = 5\n",
        "print(a)\n",
        "a = 'Shahroz'\n",
        "print(a)\n",
        "\n"
      ],
      "metadata": {
        "colab": {
          "base_uri": "https://localhost:8080/"
        },
        "id": "VYM0OYPdwqlQ",
        "outputId": "f180b31f-b360-42b8-c977-b0d2aa9a0098"
      },
      "execution_count": null,
      "outputs": [
        {
          "output_type": "stream",
          "name": "stdout",
          "text": [
            "5\n",
            "Shahroz\n"
          ]
        }
      ]
    },
    {
      "cell_type": "code",
      "source": [
        "# Static Binding\n",
        "i = 6"
      ],
      "metadata": {
        "collapsed": true,
        "id": "50usFJRNlyLO",
        "colab": {
          "base_uri": "https://localhost:8080/",
          "height": 106
        },
        "outputId": "73b097d1-1492-46ad-b8d5-62a338a61831"
      },
      "execution_count": null,
      "outputs": [
        {
          "output_type": "error",
          "ename": "SyntaxError",
          "evalue": "invalid syntax (<ipython-input-49-6448a6929cb4>, line 2)",
          "traceback": [
            "\u001b[0;36m  File \u001b[0;32m\"<ipython-input-49-6448a6929cb4>\"\u001b[0;36m, line \u001b[0;32m2\u001b[0m\n\u001b[0;31m    int i = 6\u001b[0m\n\u001b[0m        ^\u001b[0m\n\u001b[0;31mSyntaxError\u001b[0m\u001b[0;31m:\u001b[0m invalid syntax\n"
          ]
        }
      ]
    },
    {
      "cell_type": "code",
      "source": [
        " a = 1\n",
        " b = 2\n",
        " c = 3\n",
        " print(a,b,c)"
      ],
      "metadata": {
        "id": "mk-C6yLrkAXJ"
      },
      "execution_count": null,
      "outputs": []
    },
    {
      "cell_type": "code",
      "source": [
        "a,b,c = 1,2,3\n",
        "print(a,b,c)"
      ],
      "metadata": {
        "colab": {
          "base_uri": "https://localhost:8080/"
        },
        "id": "bi21EMnukGp0",
        "outputId": "d82c1b3b-fa25-4a10-d2f5-56d2a123770b"
      },
      "execution_count": null,
      "outputs": [
        {
          "output_type": "stream",
          "name": "stdout",
          "text": [
            "1 2 3\n"
          ]
        }
      ]
    },
    {
      "cell_type": "code",
      "source": [
        "a=b=c=10\n",
        "print(a,b,c)"
      ],
      "metadata": {
        "colab": {
          "base_uri": "https://localhost:8080/"
        },
        "id": "iXi5CXShkWB3",
        "outputId": "f0777f92-d858-4ff2-d218-fa2746413a46"
      },
      "execution_count": null,
      "outputs": [
        {
          "output_type": "stream",
          "name": "stdout",
          "text": [
            "10 10 10\n"
          ]
        }
      ]
    },
    {
      "cell_type": "markdown",
      "source": [
        "### Keywords  & Identifiers"
      ],
      "metadata": {
        "id": "POe3GEfEnLrH"
      }
    },
    {
      "cell_type": "code",
      "source": [
        "# keywords\n",
        "import keyword\n",
        "print(keyword.kwlist)\n"
      ],
      "metadata": {
        "id": "yEibpeN_katH",
        "colab": {
          "base_uri": "https://localhost:8080/"
        },
        "outputId": "4504dfc9-db1f-45b4-d5b1-03d8a15aff83"
      },
      "execution_count": null,
      "outputs": [
        {
          "output_type": "stream",
          "name": "stdout",
          "text": [
            "['False', 'None', 'True', 'and', 'as', 'assert', 'async', 'await', 'break', 'class', 'continue', 'def', 'del', 'elif', 'else', 'except', 'finally', 'for', 'from', 'global', 'if', 'import', 'in', 'is', 'lambda', 'nonlocal', 'not', 'or', 'pass', 'raise', 'return', 'try', 'while', 'with', 'yield']\n"
          ]
        }
      ]
    },
    {
      "cell_type": "code",
      "source": [
        "# indentifiers\n",
        "# You can't start with a digit\n",
        "name1 = 'Shahroz'\n",
        "print(name1)\n",
        "# You can use special chars -> _\n",
        "_ = 'Shahroz'\n",
        "print(_)\n",
        "# identiers can not be keyword"
      ],
      "metadata": {
        "colab": {
          "base_uri": "https://localhost:8080/"
        },
        "id": "FuH92AqOsNDk",
        "outputId": "ee823cd9-770a-4c3a-b8fd-150e23c19097"
      },
      "execution_count": null,
      "outputs": [
        {
          "output_type": "stream",
          "name": "stdout",
          "text": [
            "Shahroz\n",
            "Shahroz\n"
          ]
        }
      ]
    },
    {
      "cell_type": "code",
      "source": [],
      "metadata": {
        "id": "9_mBh9pnsfei"
      },
      "execution_count": null,
      "outputs": []
    },
    {
      "cell_type": "markdown",
      "source": [
        "### User Input"
      ],
      "metadata": {
        "id": "U9XI1JV6ss7f"
      }
    },
    {
      "cell_type": "code",
      "source": [
        "# Static Vs Dymanic\n",
        "input('Enter Email')"
      ],
      "metadata": {
        "colab": {
          "base_uri": "https://localhost:8080/",
          "height": 53
        },
        "id": "7V06I-nXszPn",
        "outputId": "2b673e24-e0e3-47d9-bced-997d9312331e"
      },
      "execution_count": null,
      "outputs": [
        {
          "name": "stdout",
          "output_type": "stream",
          "text": [
            "Enter Emailraoshahrozmunim777@gmail.com\n"
          ]
        },
        {
          "output_type": "execute_result",
          "data": {
            "text/plain": [
              "'raoshahrozmunim777@gmail.com'"
            ],
            "application/vnd.google.colaboratory.intrinsic+json": {
              "type": "string"
            }
          },
          "metadata": {},
          "execution_count": 16
        }
      ]
    },
    {
      "cell_type": "code",
      "source": [
        "# take input from users and store then in a variable\n",
        "fnum = int(input('Enter First number:'))\n",
        "snum = int(input('Enter second number:'))\n",
        "# add the variables\n",
        "result = fnum + snum\n",
        "# print the Result\n",
        "print(result)"
      ],
      "metadata": {
        "colab": {
          "base_uri": "https://localhost:8080/"
        },
        "id": "K_1XPtnUto3r",
        "outputId": "801d4571-4945-4479-e01d-97d4fd2a1139"
      },
      "execution_count": null,
      "outputs": [
        {
          "output_type": "stream",
          "name": "stdout",
          "text": [
            "Enter First number:45\n",
            "Enter second number:82\n",
            "127\n"
          ]
        }
      ]
    },
    {
      "cell_type": "markdown",
      "source": [
        "### Type Conversion"
      ],
      "metadata": {
        "id": "UEbFkzQhxksa"
      }
    },
    {
      "cell_type": "code",
      "source": [
        "# Implicit Vs Explicit\n",
        "# Example Imlicit\n",
        "# Automatically -> Float\n",
        "num1 = 5+5.8\n",
        "print(num1)\n",
        "print(type(num1))"
      ],
      "metadata": {
        "colab": {
          "base_uri": "https://localhost:8080/"
        },
        "id": "C0yuHTkPuhI6",
        "outputId": "f4e2fe26-b219-4a3d-bdb5-fb4222c4e070"
      },
      "execution_count": null,
      "outputs": [
        {
          "output_type": "stream",
          "name": "stdout",
          "text": [
            "10.8\n",
            "<class 'float'>\n"
          ]
        }
      ]
    },
    {
      "cell_type": "code",
      "source": [
        "# Example Explicit\n",
        "# str -> int\n",
        "num1 = int('4')\n",
        "print(num1)\n",
        "print(type(num1))"
      ],
      "metadata": {
        "colab": {
          "base_uri": "https://localhost:8080/"
        },
        "id": "vcR6QrOBw0h5",
        "outputId": "c0d86746-cb95-43ee-9ff6-657eb198cdab"
      },
      "execution_count": null,
      "outputs": [
        {
          "output_type": "stream",
          "name": "stdout",
          "text": [
            "4\n",
            "<class 'int'>\n"
          ]
        }
      ]
    },
    {
      "cell_type": "markdown",
      "source": [
        "### Literals"
      ],
      "metadata": {
        "id": "U-SWmhkGzORx"
      }
    },
    {
      "cell_type": "code",
      "source": [
        "a = 0b1010 #Binary Literals\n",
        "b = 100 #Decimal Literals\n",
        "c = 0o310 #Octal Literal\n",
        "d = 0x12c #Hexadecimal Literal\n",
        "\n",
        "#Float Literal\n",
        "float_1 = 10.5\n",
        "float_2 = 1.5e2\n",
        "float_3 = 1.5e-3\n",
        "\n",
        "#Complex Loteral\n",
        "x = 3.14j\n",
        "\n",
        "print(a,b,c,d)\n",
        "print(float_1,float_2,float_3)\n",
        "print(x,x.imag,x.real)"
      ],
      "metadata": {
        "colab": {
          "base_uri": "https://localhost:8080/"
        },
        "id": "PJbfTHh1zRpd",
        "outputId": "ce6dcc9a-9b3c-4f93-d2a4-010b7e5c3a43"
      },
      "execution_count": null,
      "outputs": [
        {
          "output_type": "stream",
          "name": "stdout",
          "text": [
            "10 100 200 300\n",
            "10.5 150.0 0.0015\n",
            "3.14j 3.14 0.0\n"
          ]
        }
      ]
    },
    {
      "cell_type": "code",
      "source": [],
      "metadata": {
        "id": "V1yF_T8b0WcI"
      },
      "execution_count": null,
      "outputs": []
    },
    {
      "cell_type": "markdown",
      "source": [
        "### String\n"
      ],
      "metadata": {
        "id": "b_xoIoBj1YZr"
      }
    },
    {
      "cell_type": "code",
      "source": [
        "string = 'My name is Shahroz'\n",
        "strings = \"My name is Shahroz\"\n",
        "char = \"C\"\n",
        "multiline_str = \"\"\"This is a multiline string with more than one line code.\"\"\"\n",
        "unicode = u\"\\U0001f600\\U0001F606\\U0001F923\"\n",
        "raw_str = r\"raw \\n string\"\n",
        "\n",
        "print(string)\n",
        "print(strings)\n",
        "print(char)\n",
        "print(multiline_str)\n",
        "print(unicode)\n",
        "print(raw_str)"
      ],
      "metadata": {
        "colab": {
          "base_uri": "https://localhost:8080/"
        },
        "id": "ZFE-Pljw1bhq",
        "outputId": "bc287e6c-e473-4aa4-e849-f9cfaa1efc34"
      },
      "execution_count": null,
      "outputs": [
        {
          "output_type": "stream",
          "name": "stdout",
          "text": [
            "My name is Shahroz\n",
            "My name is Shahroz\n",
            "C\n",
            "This is a multiline string with more than one line code.\n",
            "😀😆🤣\n",
            "raw \\n string\n"
          ]
        }
      ]
    },
    {
      "cell_type": "code",
      "source": [],
      "metadata": {
        "id": "Nt5qzaz01_YG"
      },
      "execution_count": null,
      "outputs": []
    },
    {
      "cell_type": "markdown",
      "source": [
        "### Boolean"
      ],
      "metadata": {
        "id": "bjnGdUCL2Q4G"
      }
    },
    {
      "cell_type": "code",
      "source": [
        "a = True + 4\n",
        "b = False + 10\n",
        "\n",
        "print(\"a:\",a)\n",
        "print(\"b:\",b)"
      ],
      "metadata": {
        "colab": {
          "base_uri": "https://localhost:8080/"
        },
        "id": "I0WH5voz2TE_",
        "outputId": "321b5f14-1489-4b35-abca-f77ba10edc20"
      },
      "execution_count": null,
      "outputs": [
        {
          "output_type": "stream",
          "name": "stdout",
          "text": [
            "a: 5\n",
            "b: 10\n"
          ]
        }
      ]
    },
    {
      "cell_type": "code",
      "source": [],
      "metadata": {
        "id": "VRUQ8mt42Z3V"
      },
      "execution_count": null,
      "outputs": []
    }
  ]
}